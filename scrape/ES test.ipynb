{
 "cells": [
  {
   "cell_type": "markdown",
   "metadata": {},
   "source": [
    "## Run/ check Elastic search\n",
    "\n",
    "    systemctl start elasticsearch"
   ]
  },
  {
   "cell_type": "code",
   "execution_count": 1,
   "metadata": {},
   "outputs": [
    {
     "name": "stdout",
     "output_type": "stream",
     "text": [
      "{\n",
      "  \"name\" : \"u4iVhDd\",\n",
      "  \"cluster_name\" : \"elasticsearch\",\n",
      "  \"cluster_uuid\" : \"biTULKRYTPKW62ewYH9Q9g\",\n",
      "  \"version\" : {\n",
      "    \"number\" : \"6.4.2\",\n",
      "    \"build_flavor\" : \"default\",\n",
      "    \"build_type\" : \"deb\",\n",
      "    \"build_hash\" : \"04711c2\",\n",
      "    \"build_date\" : \"2018-09-26T13:34:09.098244Z\",\n",
      "    \"build_snapshot\" : false,\n",
      "    \"lucene_version\" : \"7.4.0\",\n",
      "    \"minimum_wire_compatibility_version\" : \"5.6.0\",\n",
      "    \"minimum_index_compatibility_version\" : \"5.0.0\"\n",
      "  },\n",
      "  \"tagline\" : \"You Know, for Search\"\n",
      "}\n",
      "\n"
     ]
    },
    {
     "name": "stderr",
     "output_type": "stream",
     "text": [
      "/home/born-2-code/.local/lib/python2.7/site-packages/requests/__init__.py:91: RequestsDependencyWarning: urllib3 (1.24) or chardet (3.0.4) doesn't match a supported version!\n",
      "  RequestsDependencyWarning)\n"
     ]
    }
   ],
   "source": [
    "import requests\n",
    "res = requests.get('http://localhost:9200')\n",
    "print(res.content)"
   ]
  },
  {
   "cell_type": "markdown",
   "metadata": {},
   "source": [
    "## import ElasticSearch"
   ]
  },
  {
   "cell_type": "code",
   "execution_count": 2,
   "metadata": {},
   "outputs": [],
   "source": [
    "from elasticsearch import Elasticsearch\n",
    "es = Elasticsearch([{'host': 'localhost', 'port': 9200}])"
   ]
  },
  {
   "cell_type": "markdown",
   "metadata": {},
   "source": [
    "## read dataframes and import data to ES"
   ]
  },
  {
   "cell_type": "code",
   "execution_count": 3,
   "metadata": {},
   "outputs": [],
   "source": [
    "import pandas as pd"
   ]
  },
  {
   "cell_type": "code",
   "execution_count": 4,
   "metadata": {},
   "outputs": [],
   "source": [
    "oracle = pd.read_csv('oracleTM.csv', index_col=0)\n",
    "oracle.drop_duplicates(inplace=True)"
   ]
  },
  {
   "cell_type": "code",
   "execution_count": 5,
   "metadata": {},
   "outputs": [],
   "source": [
    "wikibooks = pd.read_csv('data.csv', index_col=0)\n",
    "wikibooks.drop_duplicates(inplace=True)"
   ]
  },
  {
   "cell_type": "code",
   "execution_count": 6,
   "metadata": {},
   "outputs": [],
   "source": [
    "# df = oracle.append(wikibooks)\n",
    "# df = wikibooks"
   ]
  },
  {
   "cell_type": "markdown",
   "metadata": {},
   "source": [
    "## apply text pre-processing and create a dunction to apply for test data\n",
    "    lowercase, stemming, stop-word removal"
   ]
  },
  {
   "cell_type": "code",
   "execution_count": 7,
   "metadata": {},
   "outputs": [],
   "source": [
    "from sklearn.feature_extraction import text\n",
    "from nltk.stem.porter import PorterStemmer\n",
    "stop = text.ENGLISH_STOP_WORDS\n",
    "porter_stemmer = PorterStemmer()\n",
    "# df['text'] = df[\"text\"].apply(lambda x: ''.join([\"\" if ord(i) < 32 or ord(i) > 126 else i for i in x]))\n",
    "\n",
    "wikibooks['text'] = wikibooks[\"text\"].apply(lambda x: ''.join([\"\" if ord(i) < 32 or ord(i) > 126 else i for i in x]))\n",
    "\n",
    "# oracle['text'] = oracle[\"text\"].apply(lambda x: ''.join([\"\" if ord(i) < 32 or ord(i) > 126 else i for i in x]))"
   ]
  },
  {
   "cell_type": "code",
   "execution_count": 8,
   "metadata": {},
   "outputs": [],
   "source": [
    "# df['text'] = df['text'].apply(lambda x: ' '.join([porter_stemmer.stem(word.lower()) for word in x.split() if word not in (stop)]))\n",
    "\n",
    "wikibooks['text'] = wikibooks['text'].apply(lambda x: ' '.join([porter_stemmer.stem(word.lower()) for word in x.split() if word not in (stop)]))\n",
    "\n",
    "# oracle['text'] = oracle['text'].apply(lambda x: ' '.join([porter_stemmer.stem(word.lower()) for word in x.split() if word not in (stop)]))"
   ]
  },
  {
   "cell_type": "code",
   "execution_count": 9,
   "metadata": {},
   "outputs": [],
   "source": [
    "# df"
   ]
  },
  {
   "cell_type": "code",
   "execution_count": 10,
   "metadata": {},
   "outputs": [],
   "source": [
    "from sklearn.feature_extraction import text\n",
    "from nltk.stem.porter import PorterStemmer\n",
    "    \n",
    "def preprocessing(df_col):\n",
    "    stop = text.ENGLISH_STOP_WORDS\n",
    "    porter_stemmer = PorterStemmer()\n",
    "    df_col = df_col.apply(lambda x: ''.join([\"\" if ord(i) < 32 or ord(i) > 126 else i for i in x]))\n",
    "    df_col = df_col.apply(lambda x: ' '.join([porter_stemmer.stem(word.lower()) for word in x.split() if word not in (stop)]))\n",
    "    return df_col"
   ]
  },
  {
   "cell_type": "markdown",
   "metadata": {},
   "source": [
    "## insert records to elastic search"
   ]
  },
  {
   "cell_type": "code",
   "execution_count": 11,
   "metadata": {},
   "outputs": [],
   "source": [
    "# df['json'] = df.apply(lambda x: x.to_json(), axis=1)\n",
    "\n",
    "wikibooks['json'] = wikibooks.apply(lambda x: x.to_json(), axis=1)\n",
    "\n",
    "# oracle['json'] = oracle.apply(lambda x: x.to_json(), axis=1)"
   ]
  },
  {
   "cell_type": "code",
   "execution_count": 12,
   "metadata": {},
   "outputs": [
    {
     "data": {
      "text/plain": [
       "\"\\nes.indices.delete(index='java', ignore=[400, 404])\\nfor index in range(len(df)):\\n    es.index(index='java', doc_type='document', id=index, body=df.iloc[index]['json'])\\n    \\nfor index in range(len(oracle)):\\n    es.index(index='java_oracle', doc_type='document', id=index, body=oracle.iloc[index]['json'])\\n\""
      ]
     },
     "execution_count": 12,
     "metadata": {},
     "output_type": "execute_result"
    }
   ],
   "source": [
    "#es.indices.delete(index='java_oracle', ignore=[400, 404])\n",
    "\n",
    "es.indices.delete(index='java_wikibook', ignore=[400, 404])\n",
    "\n",
    "for index in range(len(wikibooks)):\n",
    "    es.index(index='java_wikibook', doc_type='document', id=index, body=wikibooks.iloc[index]['json'])\n",
    "\n",
    "\"\"\"\n",
    "es.indices.delete(index='java', ignore=[400, 404])\n",
    "for index in range(len(df)):\n",
    "    es.index(index='java', doc_type='document', id=index, body=df.iloc[index]['json'])\n",
    "    \n",
    "for index in range(len(oracle)):\n",
    "    es.index(index='java_oracle', doc_type='document', id=index, body=oracle.iloc[index]['json'])\n",
    "\"\"\""
   ]
  },
  {
   "cell_type": "markdown",
   "metadata": {},
   "source": [
    "## read queries"
   ]
  },
  {
   "cell_type": "code",
   "execution_count": 13,
   "metadata": {},
   "outputs": [],
   "source": [
    "queries = pd.read_excel('queries.xlsx')"
   ]
  },
  {
   "cell_type": "code",
   "execution_count": 14,
   "metadata": {},
   "outputs": [],
   "source": [
    "queries['text_1'] = preprocessing(queries['text'])"
   ]
  },
  {
   "cell_type": "code",
   "execution_count": 25,
   "metadata": {},
   "outputs": [],
   "source": [
    "import collections \n",
    "ret = []\n",
    "\n",
    "for index in range(len(queries)):\n",
    "    query = queries.iloc[index]['text_1']\n",
    "    query_text = queries.iloc[index]['text']\n",
    "    \n",
    "    res_wikibooks = es.search(index='java_wikibook',from_=0, size=10, body={\"query\": {\n",
    "        \"multi_match\" : {\n",
    "          \"query\":    query,\n",
    "          \"fields\": [ \"text\"] \n",
    "        }\n",
    "    }})\n",
    "    \n",
    "    result = {}\n",
    "    result['data'] = []\n",
    "    \n",
    "    for item in res_wikibooks['hits']['hits']:\n",
    "        d = {}\n",
    "        title = item['_source']['title']\n",
    "        url = item['_source']['url']\n",
    "        d['title'] = title\n",
    "        d['url'] = url\n",
    "        result['data'].append(d)\n",
    "        result['title'] = query_text\n",
    "    ret.append(result)"
   ]
  },
  {
   "cell_type": "code",
   "execution_count": 26,
   "metadata": {},
   "outputs": [
    {
     "data": {
      "text/plain": [
       "[{'data': [{'title': u'Installing Java on Your Computer Adding behavior to objects',\n",
       "    'url': u'https://en.wikibooks.org//wiki/Java_Programming/Installation'},\n",
       "   {'title': u'Arithmetic expressions Adding behavior to objects',\n",
       "    'url': u'https://en.wikibooks.org//wiki/Java_Programming/Arithmetic_expressions'},\n",
       "   {'title': u'Objects Adding behavior to objects',\n",
       "    'url': u'https://en.wikibooks.org//wiki/Java_Programming/Classes,_Objects_and_Types'},\n",
       "   {'title': u'Mathematical functions Adding behavior to objects',\n",
       "    'url': u'https://en.wikibooks.org//wiki/Java_Programming/Mathematical_functions'},\n",
       "   {'title': u'Map Adding behavior to objects',\n",
       "    'url': u'https://en.wikibooks.org//wiki/Java_Programming/Map'},\n",
       "   {'title': u'Comparing Objects Adding behavior to objects',\n",
       "    'url': u'https://en.wikibooks.org//wiki/Java_Programming/Comparing_Objects'},\n",
       "   {'title': u'Threads and Runnables Adding behavior to objects',\n",
       "    'url': u'https://en.wikibooks.org//wiki/Java_Programming/Threads_and_Runnables'},\n",
       "   {'title': u'Remote Method Invocation (RMI) Adding behavior to objects',\n",
       "    'url': u'https://en.wikibooks.org//wiki/Java_Programming/Remote_Method_Invocation'},\n",
       "   {'title': u'Java Spaces Programming (Jini) Adding behavior to objects',\n",
       "    'url': u'https://en.wikibooks.org//wiki/Java_Programming/JavaSpaces'},\n",
       "   {'title': u'Introduction to Annotation Adding behavior to objects',\n",
       "    'url': u'https://en.wikibooks.org//wiki/Java_Programming/Annotations/Introduction'}],\n",
       "  'title': u\"One way to implement deep copy is to add copy constructors to each associated class. A copy constructor takes an instance of 'this' as its single argument and copies all the values from it. Quite some work, but pretty straightforward and safe. EDIT: note that you don't need to use accessor methods to read fields. You can access all fields directly because the source instance is always of the same type as the instance with the copy constructor. Obvious but might be overlooked. Example: Edit: Note that when using copy constructors you need to know the runtime type of the object you are copying. With the above approach you cannot easily copy a mixed list (you might be able to do it with some reflection code). \"},\n",
       " {'data': [{'title': u'About this book Expanding your class definitions',\n",
       "    'url': u'https://en.wikibooks.org//wiki/Java_Programming/About_This_Book'},\n",
       "   {'title': u'Compiling programs Expanding your class definitions',\n",
       "    'url': u'https://en.wikibooks.org//wiki/Java_Programming/Compilation'},\n",
       "   {'title': u'Variables Expanding your class definitions',\n",
       "    'url': u'https://en.wikibooks.org//wiki/Java_Programming/Variables'},\n",
       "   {'title': u'Primitive Types Expanding your class definitions',\n",
       "    'url': u'https://en.wikibooks.org//wiki/Java_Programming/Primitive_Types'},\n",
       "   {'title': u'Arithmetic expressions Expanding your class definitions',\n",
       "    'url': u'https://en.wikibooks.org//wiki/Java_Programming/Arithmetic_expressions'},\n",
       "   {'title': u'Methods Expanding your class definitions',\n",
       "    'url': u'https://en.wikibooks.org//wiki/Java_Programming/Methods'},\n",
       "   {'title': u'Arrays Expanding your class definitions',\n",
       "    'url': u'https://en.wikibooks.org//wiki/Java_Programming/Arrays'},\n",
       "   {'title': u'Object Lifecycle Expanding your class definitions',\n",
       "    'url': u'https://en.wikibooks.org//wiki/Java_Programming/Object_Lifecycle'},\n",
       "   {'title': u'Nested classes Expanding your class definitions',\n",
       "    'url': u'https://en.wikibooks.org//wiki/Java_Programming/Nested_Classes'},\n",
       "   {'title': u'Stack trace Expanding your class definitions',\n",
       "    'url': u'https://en.wikibooks.org//wiki/Java_Programming/Stack_trace'}],\n",
       "  'title': u'I was presented with this question in an end of module open book exam today and found myself lost. i was reading Head first Javaand both definitions seemed to be exactly the same. i was just wondering what the MAIN difference was for my own piece of mind. i know there are a number of similar questions to this but, none i have seen which provide a definitive answer.Thanks, Darren'},\n",
       " {'data': [{'title': u'Overview of the Java programming language Understanding class definitions and types',\n",
       "    'url': u'https://en.wikibooks.org//wiki/Java_Programming/Java_Overview'},\n",
       "   {'title': u'Java IDEs Understanding class definitions and types',\n",
       "    'url': u'https://en.wikibooks.org//wiki/Java_Programming/Java_IDEs'},\n",
       "   {'title': u'String Understanding class definitions and types',\n",
       "    'url': u'https://en.wikibooks.org//wiki/Java_Programming/API/java.lang.String'},\n",
       "   {'title': u'Mathematical functions Understanding class definitions and types',\n",
       "    'url': u'https://en.wikibooks.org//wiki/Java_Programming/Mathematical_functions'},\n",
       "   {'title': u'Unicode Understanding class definitions and types',\n",
       "    'url': u'https://en.wikibooks.org//wiki/Java_Programming/Unicode'},\n",
       "   {'title': u'Keywords Understanding class definitions and types',\n",
       "    'url': u'https://en.wikibooks.org//wiki/Java_Programming/Keywords'},\n",
       "   {'title': u'Comparing Objects Understanding class definitions and types',\n",
       "    'url': u'https://en.wikibooks.org//wiki/Java_Programming/Comparing_Objects'},\n",
       "   {'title': u'Enterprise JavaBean Programming (EJB) Understanding class definitions and types',\n",
       "    'url': u'https://en.wikibooks.org//wiki/Java_Programming/EJB'},\n",
       "   {'title': u'Meta-annotations Understanding class definitions and types',\n",
       "    'url': u'https://en.wikibooks.org//wiki/Java_Programming/Annotations/Meta-Annotations'},\n",
       "   {'title': u'Event handling Understanding class definitions and types',\n",
       "    'url': u'https://en.wikibooks.org//wiki/Java_Programming/Event_Handling'}],\n",
       "  'title': u\"Inheritance is when a 'class' derives from an existing 'class'.So if you have a Person class, then you have a Student class that extends Person, Student inherits all the things that Person has.There are some details around the access modifiers you put on the fields/methods in Person, but that's the basic idea.For example, if you have a private field on Person, Student won't see it because its private, and private fields are not visible to subclasses.Polymorphism deals with how the program decides which methods it should use, depending on what type of thing it has.If you have a Person, which has a read method, and you have a Student which extends Person, which has its own implementation of read, which method gets called is determined for you by the runtime, depending if you have a Person or a Student.It gets a bit tricky, but if you do something likePerson p = new Student();p.read();the read method on Student gets called.Thats the polymorphism in action.You can do that assignment because a Student is a Person, but the runtime is smart enough to know that the actual type of p is Student.Note that details differ among languages.You can do inheritance in javascript for example, but its completely different than the way it works in Java.\"},\n",
       " {'data': [{'title': u'Recent changes Expanding your class definitions',\n",
       "    'url': u'https://en.wikibooks.org//wiki/Special:RecentChangesLinked/Category:Book:Java_Programming'},\n",
       "   {'title': u'Boolean expressions Expanding your class definitions',\n",
       "    'url': u'https://en.wikibooks.org//wiki/Java_Programming/Boolean_expressions'},\n",
       "   {'title': u'Comments Expanding your class definitions',\n",
       "    'url': u'https://en.wikibooks.org//wiki/Java_Programming/Comments'},\n",
       "   {'title': u'Interfaces Expanding your class definitions',\n",
       "    'url': u'https://en.wikibooks.org//wiki/Java_Programming/Interfaces'},\n",
       "   {'title': u'Overloading methods and constructors Expanding your class definitions',\n",
       "    'url': u'https://en.wikibooks.org//wiki/Java_Programming/Overloading_Methods_and_Constructors'},\n",
       "   {'title': u'Scope Expanding your class definitions',\n",
       "    'url': u'https://en.wikibooks.org//wiki/Java_Programming/Scope'},\n",
       "   {'title': u'Generics Expanding your class definitions',\n",
       "    'url': u'https://en.wikibooks.org//wiki/Java_Programming/Generics'},\n",
       "   {'title': u'Comparing Objects Expanding your class definitions',\n",
       "    'url': u'https://en.wikibooks.org//wiki/Java_Programming/Comparing_Objects'},\n",
       "   {'title': u'Preventing NullPointerException Expanding your class definitions',\n",
       "    'url': u'https://en.wikibooks.org//wiki/Java_Programming/Preventing_NullPointerException'},\n",
       "   {'title': u'Remote Method Invocation (RMI) Expanding your class definitions',\n",
       "    'url': u'https://en.wikibooks.org//wiki/Java_Programming/Remote_Method_Invocation'}],\n",
       "  'title': u\"Polymorphism: The ability to treat objects of different types in a similar manner.Example: Giraffe and Crocodile are both Animals, and animals can Move.If you have an instance of an Animal then you can call Move without knowing or caring what type of animal it is.Inheritance: This is one way of achieving both Polymorphism and code reuse at the same time.Other forms of polymorphism:There are other way of achieving polymorphism, such as interfaces, which provide only polymorphism but no code reuse (sometimes the code is quite different, such as Move for a Snake would be quite different from Move for a Dog, in which case an Interface would be the better polymorphic choice in this case.In other dynamic languages polymorphism can be achieved with Duck Typing, which is the classes don't even need to share the same base class or interface, they just need a method with the same name.Or even more dynamic like Javascript, you don't even need classes at all, just an object with the same method name can be used polymorphically.\"},\n",
       " {'data': [{'title': u'Who is contributing Thinking in objects',\n",
       "    'url': u'https://en.wikibooks.org//wiki/Java_Programming/Contributors'},\n",
       "   {'title': u'Understanding a Java program Thinking in objects',\n",
       "    'url': u'https://en.wikibooks.org//wiki/Java_Programming/Understanding_a_Java_Program'},\n",
       "   {'title': u'Statements Thinking in objects',\n",
       "    'url': u'https://en.wikibooks.org//wiki/Java_Programming/Statements'},\n",
       "   {'title': u'Boolean expressions Thinking in objects',\n",
       "    'url': u'https://en.wikibooks.org//wiki/Java_Programming/Boolean_expressions'},\n",
       "   {'title': u'Primitive Types Thinking in objects',\n",
       "    'url': u'https://en.wikibooks.org//wiki/Java_Programming/Primitive_Types'},\n",
       "   {'title': u'Arithmetic expressions Thinking in objects',\n",
       "    'url': u'https://en.wikibooks.org//wiki/Java_Programming/Arithmetic_expressions'},\n",
       "   {'title': u'Scope Thinking in objects',\n",
       "    'url': u'https://en.wikibooks.org//wiki/Java_Programming/Scope'},\n",
       "   {'title': u'Map Thinking in objects',\n",
       "    'url': u'https://en.wikibooks.org//wiki/Java_Programming/Map'},\n",
       "   {'title': u'Basic Synchronization Thinking in objects',\n",
       "    'url': u'https://en.wikibooks.org//wiki/Java_Programming/Basic_Synchronization'},\n",
       "   {'title': u'Remote Method Invocation (RMI) Thinking in objects',\n",
       "    'url': u'https://en.wikibooks.org//wiki/Java_Programming/Remote_Method_Invocation'}],\n",
       "  'title': u'I found out that the above piece of code is perfectly legal in Java. I have the following questions. ThanksAdded one more question regarding Abstract method classes.'},\n",
       " {'data': [{'title': u'Overview of the Java programming language The process of encapsulation',\n",
       "    'url': u'https://en.wikibooks.org//wiki/Java_Programming/Java_Overview'},\n",
       "   {'title': u'The Java platform (JRE & JDK) The process of encapsulation',\n",
       "    'url': u'https://en.wikibooks.org//wiki/Java_Programming/The_Java_Platform'},\n",
       "   {'title': u'Arithmetic expressions The process of encapsulation',\n",
       "    'url': u'https://en.wikibooks.org//wiki/Java_Programming/Arithmetic_expressions'},\n",
       "   {'title': u'Scope The process of encapsulation',\n",
       "    'url': u'https://en.wikibooks.org//wiki/Java_Programming/Scope'},\n",
       "   {'title': u'Map The process of encapsulation',\n",
       "    'url': u'https://en.wikibooks.org//wiki/Java_Programming/Map'},\n",
       "   {'title': u'Throwing and catching exceptions The process of encapsulation',\n",
       "    'url': u'https://en.wikibooks.org//wiki/Java_Programming/Throwing_and_Catching_Exceptions'},\n",
       "   {'title': u'Preventing NullPointerException The process of encapsulation',\n",
       "    'url': u'https://en.wikibooks.org//wiki/Java_Programming/Preventing_NullPointerException'},\n",
       "   {'title': u'Nesting exceptions (chained exceptions) The process of encapsulation',\n",
       "    'url': u'https://en.wikibooks.org//wiki/Java_Programming/Nesting_Exceptions'},\n",
       "   {'title': u'Threads and Runnables The process of encapsulation',\n",
       "    'url': u'https://en.wikibooks.org//wiki/Java_Programming/Threads_and_Runnables'},\n",
       "   {'title': u'Graphics The process of encapsulation',\n",
       "    'url': u'https://en.wikibooks.org//wiki/Java_Programming/Graphics'}],\n",
       "  'title': u\"In java it's a bit difficult to implement a deep object copy function. What steps you take to ensure the original object and the cloned one share no reference? \"},\n",
       " {'data': [{'title': u'Recent changes Expanding your class definitions',\n",
       "    'url': u'https://en.wikibooks.org//wiki/Special:RecentChangesLinked/Category:Book:Java_Programming'},\n",
       "   {'title': u'Boolean expressions Expanding your class definitions',\n",
       "    'url': u'https://en.wikibooks.org//wiki/Java_Programming/Boolean_expressions'},\n",
       "   {'title': u'Comments Expanding your class definitions',\n",
       "    'url': u'https://en.wikibooks.org//wiki/Java_Programming/Comments'},\n",
       "   {'title': u'Interfaces Expanding your class definitions',\n",
       "    'url': u'https://en.wikibooks.org//wiki/Java_Programming/Interfaces'},\n",
       "   {'title': u'Overloading methods and constructors Expanding your class definitions',\n",
       "    'url': u'https://en.wikibooks.org//wiki/Java_Programming/Overloading_Methods_and_Constructors'},\n",
       "   {'title': u'Scope Expanding your class definitions',\n",
       "    'url': u'https://en.wikibooks.org//wiki/Java_Programming/Scope'},\n",
       "   {'title': u'Generics Expanding your class definitions',\n",
       "    'url': u'https://en.wikibooks.org//wiki/Java_Programming/Generics'},\n",
       "   {'title': u'Comparing Objects Expanding your class definitions',\n",
       "    'url': u'https://en.wikibooks.org//wiki/Java_Programming/Comparing_Objects'},\n",
       "   {'title': u'Preventing NullPointerException Expanding your class definitions',\n",
       "    'url': u'https://en.wikibooks.org//wiki/Java_Programming/Preventing_NullPointerException'},\n",
       "   {'title': u'Remote Method Invocation (RMI) Expanding your class definitions',\n",
       "    'url': u'https://en.wikibooks.org//wiki/Java_Programming/Remote_Method_Invocation'}],\n",
       "  'title': u'You can make a deep copy serialization without creating some files. Copy: Restore:'},\n",
       " {'data': [{'title': u'Installing Java on Your Computer Adding behavior to objects',\n",
       "    'url': u'https://en.wikibooks.org//wiki/Java_Programming/Installation'},\n",
       "   {'title': u'Arithmetic expressions Adding behavior to objects',\n",
       "    'url': u'https://en.wikibooks.org//wiki/Java_Programming/Arithmetic_expressions'},\n",
       "   {'title': u'Objects Adding behavior to objects',\n",
       "    'url': u'https://en.wikibooks.org//wiki/Java_Programming/Classes,_Objects_and_Types'},\n",
       "   {'title': u'Mathematical functions Adding behavior to objects',\n",
       "    'url': u'https://en.wikibooks.org//wiki/Java_Programming/Mathematical_functions'},\n",
       "   {'title': u'Map Adding behavior to objects',\n",
       "    'url': u'https://en.wikibooks.org//wiki/Java_Programming/Map'},\n",
       "   {'title': u'Comparing Objects Adding behavior to objects',\n",
       "    'url': u'https://en.wikibooks.org//wiki/Java_Programming/Comparing_Objects'},\n",
       "   {'title': u'Threads and Runnables Adding behavior to objects',\n",
       "    'url': u'https://en.wikibooks.org//wiki/Java_Programming/Threads_and_Runnables'},\n",
       "   {'title': u'Remote Method Invocation (RMI) Adding behavior to objects',\n",
       "    'url': u'https://en.wikibooks.org//wiki/Java_Programming/Remote_Method_Invocation'},\n",
       "   {'title': u'Java Spaces Programming (Jini) Adding behavior to objects',\n",
       "    'url': u'https://en.wikibooks.org//wiki/Java_Programming/JavaSpaces'},\n",
       "   {'title': u'Introduction to Annotation Adding behavior to objects',\n",
       "    'url': u'https://en.wikibooks.org//wiki/Java_Programming/Annotations/Introduction'}],\n",
       "  'title': u'Java has the ability to create classes at runtime. These classes are known as Synthetic Classes or Dynamic Proxies. See for more information. Other open-source libraries, such as and also allow you to generate synthetic classes, and are more powerful than the libraries provided with the JRE. Synthetic classes are used by AOP (Aspect Oriented Programming) libraries such as Spring AOP and AspectJ, as well as ORM libraries such as Hibernate. '},\n",
       " {'data': [{'title': u'Recent changes Understanding class definitions and types',\n",
       "    'url': u'https://en.wikibooks.org//wiki/Special:RecentChangesLinked/Category:Book:Java_Programming'},\n",
       "   {'title': u'Who is contributing Understanding class definitions and types',\n",
       "    'url': u'https://en.wikibooks.org//wiki/Java_Programming/Contributors'},\n",
       "   {'title': u'History of Java Understanding class definitions and types',\n",
       "    'url': u'https://en.wikibooks.org//wiki/Java_Programming/History'},\n",
       "   {'title': u'The Java platform (JRE & JDK) Understanding class definitions and types',\n",
       "    'url': u'https://en.wikibooks.org//wiki/Java_Programming/The_Java_Platform'},\n",
       "   {'title': u'Primitive Types Understanding class definitions and types',\n",
       "    'url': u'https://en.wikibooks.org//wiki/Java_Programming/Primitive_Types'},\n",
       "   {'title': u'Arrays Understanding class definitions and types',\n",
       "    'url': u'https://en.wikibooks.org//wiki/Java_Programming/Arrays'},\n",
       "   {'title': u'Random numbers Understanding class definitions and types',\n",
       "    'url': u'https://en.wikibooks.org//wiki/Java_Programming/Random_numbers'},\n",
       "   {'title': u'Inheritance Understanding class definitions and types',\n",
       "    'url': u'https://en.wikibooks.org//wiki/Java_Programming/Inheritance'},\n",
       "   {'title': u'Interfaces Understanding class definitions and types',\n",
       "    'url': u'https://en.wikibooks.org//wiki/Java_Programming/Interfaces'},\n",
       "   {'title': u'Object Lifecycle Understanding class definitions and types',\n",
       "    'url': u'https://en.wikibooks.org//wiki/Java_Programming/Object_Lifecycle'}],\n",
       "  'title': u\"In short: the web server issues a unique identifier to on his visit. The visitor must bring back that ID for him to be recognised next time around. This identifier also allows the server to properly segregate objects owned by one session against that of another. If is: If is: Once he's on the service mode and on the groove, the servlet will work on the requests from all other clients.Why isn't it a good idea to have one instance per client? Think about this: Will you hire one pizza guy for every order that came? Do that and you'd be out of business in no time. It comes with a small risk though. Remember: this single guy holds all the order information in his pocket: so if you're not cautious about, he may end up giving the wrong order to a certain client.\"},\n",
       " {'data': [{'title': u'Overview of the Java programming language Understanding class definitions and types',\n",
       "    'url': u'https://en.wikibooks.org//wiki/Java_Programming/Java_Overview'},\n",
       "   {'title': u'Java IDEs Understanding class definitions and types',\n",
       "    'url': u'https://en.wikibooks.org//wiki/Java_Programming/Java_IDEs'},\n",
       "   {'title': u'String Understanding class definitions and types',\n",
       "    'url': u'https://en.wikibooks.org//wiki/Java_Programming/API/java.lang.String'},\n",
       "   {'title': u'Mathematical functions Understanding class definitions and types',\n",
       "    'url': u'https://en.wikibooks.org//wiki/Java_Programming/Mathematical_functions'},\n",
       "   {'title': u'Unicode Understanding class definitions and types',\n",
       "    'url': u'https://en.wikibooks.org//wiki/Java_Programming/Unicode'},\n",
       "   {'title': u'Keywords Understanding class definitions and types',\n",
       "    'url': u'https://en.wikibooks.org//wiki/Java_Programming/Keywords'},\n",
       "   {'title': u'Comparing Objects Understanding class definitions and types',\n",
       "    'url': u'https://en.wikibooks.org//wiki/Java_Programming/Comparing_Objects'},\n",
       "   {'title': u'Enterprise JavaBean Programming (EJB) Understanding class definitions and types',\n",
       "    'url': u'https://en.wikibooks.org//wiki/Java_Programming/EJB'},\n",
       "   {'title': u'Meta-annotations Understanding class definitions and types',\n",
       "    'url': u'https://en.wikibooks.org//wiki/Java_Programming/Annotations/Meta-Annotations'},\n",
       "   {'title': u'Event handling Understanding class definitions and types',\n",
       "    'url': u'https://en.wikibooks.org//wiki/Java_Programming/Event_Handling'}],\n",
       "  'title': u\"A safe way is to serialize the object, then deserialize.This ensures everything is a brand new reference.about how to do this efficiently. Caveats: It's possible for classes to override serialization such that new instances are created, e.g. for singletons.Also this of course doesn't work if your classes aren't Serializable.\"}]"
      ]
     },
     "execution_count": 26,
     "metadata": {},
     "output_type": "execute_result"
    }
   ],
   "source": [
    "ret"
   ]
  },
  {
   "cell_type": "code",
   "execution_count": null,
   "metadata": {},
   "outputs": [],
   "source": []
  },
  {
   "cell_type": "code",
   "execution_count": null,
   "metadata": {},
   "outputs": [],
   "source": []
  },
  {
   "cell_type": "code",
   "execution_count": null,
   "metadata": {},
   "outputs": [],
   "source": []
  }
 ],
 "metadata": {
  "kernelspec": {
   "display_name": "Python 3",
   "language": "python",
   "name": "python3"
  },
  "language_info": {
   "codemirror_mode": {
    "name": "ipython",
    "version": 2
   },
   "file_extension": ".py",
   "mimetype": "text/x-python",
   "name": "python",
   "nbconvert_exporter": "python",
   "pygments_lexer": "ipython2",
   "version": "2.7.15rc1"
  }
 },
 "nbformat": 4,
 "nbformat_minor": 2
}
