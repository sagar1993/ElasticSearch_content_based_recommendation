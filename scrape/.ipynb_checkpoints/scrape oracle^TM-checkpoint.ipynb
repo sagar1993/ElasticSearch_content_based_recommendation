{
 "cells": [
  {
   "cell_type": "code",
   "execution_count": 10,
   "metadata": {},
   "outputs": [],
   "source": [
    "import urllib2\n",
    "import re\n",
    "import re\n",
    "from bs4 import BeautifulSoup\n",
    "import json\n",
    "import datetime\n",
    "from dateutil.parser import parse\n",
    "from bs4.element import Comment\n",
    "import pandas as pd"
   ]
  },
  {
   "cell_type": "code",
   "execution_count": 11,
   "metadata": {},
   "outputs": [],
   "source": [
    "wikibooks_url = 'https://en.wikibooks.org/wiki/Java_Programming'"
   ]
  },
  {
   "cell_type": "code",
   "execution_count": 12,
   "metadata": {},
   "outputs": [],
   "source": [
    "def remove_spaces(text):\n",
    "    return re.sub('\\s+',' ',text)"
   ]
  },
  {
   "cell_type": "code",
   "execution_count": 13,
   "metadata": {},
   "outputs": [],
   "source": [
    "page = urllib2.urlopen(wikibooks_url)\n",
    "soup = BeautifulSoup(page)"
   ]
  },
  {
   "cell_type": "code",
   "execution_count": 14,
   "metadata": {},
   "outputs": [],
   "source": [
    "main_div = soup.find('div', class_=\"mw-content-ltr\")"
   ]
  },
  {
   "cell_type": "code",
   "execution_count": 15,
   "metadata": {},
   "outputs": [],
   "source": [
    "ul = main_div.find_all('ul')"
   ]
  },
  {
   "cell_type": "code",
   "execution_count": 17,
   "metadata": {},
   "outputs": [
    {
     "data": {
      "text/plain": [
       "15"
      ]
     },
     "execution_count": 17,
     "metadata": {},
     "output_type": "execute_result"
    }
   ],
   "source": [
    "len(ul)"
   ]
  },
  {
   "cell_type": "code",
   "execution_count": 44,
   "metadata": {},
   "outputs": [],
   "source": [
    "domain = \"https://en.wikibooks.org/%s\"\n",
    "links = []\n",
    "for u in ul:\n",
    "    li = u.find_all('li')\n",
    "    for l in li:\n",
    "        a_tag = l.find('a', recursive=False)\n",
    "        if a_tag: \n",
    "            link = domain%a_tag.get('href')\n",
    "            links.append(link)"
   ]
  },
  {
   "cell_type": "code",
   "execution_count": 48,
   "metadata": {},
   "outputs": [
    {
     "data": {
      "text/plain": [
       "['https://en.wikibooks.org//wiki/Special:RecentChangesLinked/Category:Book:Java_Programming',\n",
       " 'https://en.wikibooks.org//wiki/Java_Programming/Q%26A',\n",
       " 'https://en.wikibooks.org//wiki/Java_Programming/Todo',\n",
       " 'https://en.wikibooks.org//wiki/Java_Programming/Conventions',\n",
       " 'https://en.wikibooks.org//wiki/Java_Programming/Contributors',\n",
       " 'https://en.wikibooks.org//wiki/Java_Programming/About_This_Book',\n",
       " 'https://en.wikibooks.org//wiki/Java_Programming/History',\n",
       " 'https://en.wikibooks.org//wiki/Java_Programming/Java_Overview',\n",
       " 'https://en.wikibooks.org//wiki/Java_Programming/The_Java_Platform',\n",
       " 'https://en.wikibooks.org//wiki/Java_Programming/Installation',\n",
       " 'https://en.wikibooks.org//wiki/Java_Programming/Compilation',\n",
       " 'https://en.wikibooks.org//wiki/Java_Programming/Execution',\n",
       " 'https://en.wikibooks.org//wiki/Java_Programming/Understanding_a_Java_Program',\n",
       " 'https://en.wikibooks.org//wiki/Java_Programming/Java_IDEs',\n",
       " 'https://en.wikibooks.org//wiki/Java_Programming/Statements',\n",
       " 'https://en.wikibooks.org//wiki/Java_Programming/Conditional_blocks',\n",
       " 'https://en.wikibooks.org//wiki/Java_Programming/Loop_blocks',\n",
       " 'https://en.wikibooks.org//wiki/Java_Programming/Boolean_expressions',\n",
       " 'https://en.wikibooks.org//wiki/Java_Programming/Variables',\n",
       " 'https://en.wikibooks.org//wiki/Java_Programming/Primitive_Types',\n",
       " 'https://en.wikibooks.org//wiki/Java_Programming/Arithmetic_expressions',\n",
       " 'https://en.wikibooks.org//wiki/Java_Programming/Literals',\n",
       " 'https://en.wikibooks.org//wiki/Java_Programming/Methods',\n",
       " 'https://en.wikibooks.org//wiki/Java_Programming/API/java.lang.String',\n",
       " 'https://en.wikibooks.org//wiki/Java_Programming/Classes,_Objects_and_Types',\n",
       " 'https://en.wikibooks.org//wiki/Java_Programming/Packages',\n",
       " 'https://en.wikibooks.org//wiki/Java_Programming/Arrays',\n",
       " 'https://en.wikibooks.org//wiki/Java_Programming/Mathematical_functions',\n",
       " 'https://en.wikibooks.org//wiki/Java_Programming/Large_numbers',\n",
       " 'https://en.wikibooks.org//wiki/Java_Programming/Random_numbers',\n",
       " 'https://en.wikibooks.org//wiki/Java_Programming/Unicode',\n",
       " 'https://en.wikibooks.org//wiki/Java_Programming/Comments',\n",
       " 'https://en.wikibooks.org//wiki/Java_Programming/Keywords',\n",
       " 'https://en.wikibooks.org//wiki/Java_Programming/Coding_conventions',\n",
       " 'https://en.wikibooks.org//wiki/Java_Programming/Defining_Classes',\n",
       " 'https://en.wikibooks.org//wiki/Java_Programming/Inheritance',\n",
       " 'https://en.wikibooks.org//wiki/Java_Programming/Interfaces',\n",
       " 'https://en.wikibooks.org//wiki/Java_Programming/Overloading_Methods_and_Constructors',\n",
       " 'https://en.wikibooks.org//wiki/Java_Programming/Object_Lifecycle',\n",
       " 'https://en.wikibooks.org//wiki/Java_Programming/Scope',\n",
       " 'https://en.wikibooks.org//wiki/Java_Programming/Nested_Classes',\n",
       " 'https://en.wikibooks.org//wiki/Java_Programming/Generics',\n",
       " 'https://en.wikibooks.org//wiki/Java_Programming/Collection',\n",
       " 'https://en.wikibooks.org//wiki/Java_Programming/ArrayList',\n",
       " 'https://en.wikibooks.org//wiki/Java_Programming/Map',\n",
       " 'https://en.wikibooks.org//wiki/Java_Programming/Comparing_Objects',\n",
       " 'https://en.wikibooks.org//wiki/Java_Programming/Throwing_and_Catching_Exceptions',\n",
       " 'https://en.wikibooks.org//wiki/Java_Programming/Checked_Exceptions',\n",
       " 'https://en.wikibooks.org//wiki/Java_Programming/Unchecked_Exceptions',\n",
       " 'https://en.wikibooks.org//wiki/Java_Programming/Preventing_NullPointerException',\n",
       " 'https://en.wikibooks.org//wiki/Java_Programming/Stack_trace',\n",
       " 'https://en.wikibooks.org//wiki/Java_Programming/Nesting_Exceptions',\n",
       " 'https://en.wikibooks.org//wiki/Java_Programming/Threads_and_Runnables',\n",
       " 'https://en.wikibooks.org//wiki/Java_Programming/Basic_Synchronization',\n",
       " 'https://en.wikibooks.org//wiki/Java_Programming/Client_Server',\n",
       " 'https://en.wikibooks.org//wiki/Java_Programming/Remote_Method_Invocation',\n",
       " 'https://en.wikibooks.org//wiki/Java_Programming/EJB',\n",
       " 'https://en.wikibooks.org//wiki/Java_Programming/JavaSpaces',\n",
       " 'https://en.wikibooks.org//wiki/Java_Programming/Javadoc',\n",
       " 'https://en.wikibooks.org//wiki/Java_Programming/Annotations/Introduction',\n",
       " 'https://en.wikibooks.org//wiki/Java_Programming/Annotations/Custom_Annotations',\n",
       " 'https://en.wikibooks.org//wiki/Java_Programming/Annotations/Meta-Annotations',\n",
       " 'https://en.wikibooks.org//wiki/Java_Programming/Annotations/Compiler_and_Annotations',\n",
       " 'https://en.wikibooks.org//wiki/Java_Programming/Basic_IO',\n",
       " 'https://en.wikibooks.org//wiki/Java_Programming/Streams',\n",
       " 'https://en.wikibooks.org//wiki/Java_Programming/Event_Handling',\n",
       " 'https://en.wikibooks.org//wiki/Java_Programming/JavaBeans',\n",
       " 'https://en.wikibooks.org//wiki/Java_Programming/Canvas',\n",
       " 'https://en.wikibooks.org//wiki/Java_Programming/Graphics',\n",
       " 'https://en.wikibooks.org//wiki/Java_Programming/Graphics/Drawing_shapes',\n",
       " 'https://en.wikibooks.org//wiki/Java_Programming/Graphics/Drawing_complex_shapes',\n",
       " 'https://en.wikibooks.org//wiki/Java_Programming/Graphics/Drawing_text',\n",
       " 'https://en.wikibooks.org//wiki/Java_Programming/Graphics/Understanding_gradients',\n",
       " 'https://en.wikibooks.org//wiki/Java_Programming/Applets',\n",
       " 'https://en.wikibooks.org//wiki/Java_Programming/Graphics/Drawing_shapes',\n",
       " 'https://en.wikibooks.org//wiki/Java_Programming/Graphics/Drawing_complex_shapes',\n",
       " 'https://en.wikibooks.org//wiki/Java_Programming/Graphics/Drawing_text',\n",
       " 'https://en.wikibooks.org//wiki/Java_Programming/Graphics/Understanding_gradients',\n",
       " 'https://en.wikibooks.org//wiki/Java_Programming/Applets/Overview',\n",
       " 'https://en.wikibooks.org//wiki/Java_Programming/Applets/User_Interface',\n",
       " 'https://en.wikibooks.org//wiki/Java_Programming/Applets/Event_Listeners',\n",
       " 'https://en.wikibooks.org//wiki/Java_Programming/Applets/Graphics_and_Media',\n",
       " 'https://en.wikibooks.org//wiki/Java_Programming/Reflection/Overview',\n",
       " 'https://en.wikibooks.org//wiki/Java_Programming/Reflection/Dynamic_Class_Loading',\n",
       " 'https://en.wikibooks.org//wiki/Java_Programming/Reflection/Dynamic_Invocation',\n",
       " 'https://en.wikibooks.org//wiki/Java_Programming/Reflection/Accessing_Private_Features_with_Reflection',\n",
       " 'https://en.wikibooks.org//wiki/Java_Programming/Networking',\n",
       " 'https://en.wikibooks.org//wiki/Java_Programming/Database_Programming',\n",
       " 'https://en.wikibooks.org//wiki/Java_Programming/Regular_Expressions',\n",
       " 'https://en.wikibooks.org//wiki/Java_Programming/Libraries,_extensions_and_frameworks',\n",
       " 'https://en.wikibooks.org//wiki/Java_Programming/3D_Programming',\n",
       " 'https://en.wikibooks.org//wiki/Java_Programming/Java_Native_Interface',\n",
       " 'https://en.wikibooks.org//wiki/Java_Programming/Invoking_C',\n",
       " 'https://en.wikibooks.org//wiki/Java_Programming/Byte_Code',\n",
       " 'https://en.wikibooks.org//wiki/Java_Programming/Links',\n",
       " 'https://en.wikibooks.org//wiki/Java_Programming/Glossary',\n",
       " 'https://en.wikibooks.org//wiki/Java_Programming/Index']"
      ]
     },
     "execution_count": 48,
     "metadata": {},
     "output_type": "execute_result"
    }
   ],
   "source": [
    "links"
   ]
  },
  {
   "cell_type": "code",
   "execution_count": 55,
   "metadata": {},
   "outputs": [],
   "source": [
    "def tag_visible(element):\n",
    "    if element.parent.name in ['style', 'script', 'head', 'title', 'meta', '[document]']:\n",
    "        return False\n",
    "    if isinstance(element, Comment):\n",
    "        return False\n",
    "    return True\n",
    "\n",
    "\n",
    "def text_from_html(body):\n",
    "    soup = BeautifulSoup(body, 'html.parser')\n",
    "    texts = soup.findAll(text=True)\n",
    "    visible_texts = filter(tag_visible, texts)  \n",
    "    return u\" \".join(t.strip() for t in visible_texts)\n",
    "\n",
    "def parse_data_save(links):\n",
    "    result = []\n",
    "    for link in links:\n",
    "        page = urllib2.urlopen(link)\n",
    "        soup = BeautifulSoup(page)\n",
    "        content = soup.find('div', class_=\"mw-parser-output\")\n",
    "        d = {}\n",
    "        d[\"url\"] = link\n",
    "        d[\"text\"] = text_from_html(str(content)).encode('utf-8').strip()\n",
    "        result.append(d)\n",
    "    df = pd.DataFrame(result)\n",
    "    df.to_csv('data.csv')\n",
    "    return df"
   ]
  },
  {
   "cell_type": "code",
   "execution_count": 54,
   "metadata": {},
   "outputs": [],
   "source": [
    "df = parse_data_save(links)"
   ]
  },
  {
   "cell_type": "code",
   "execution_count": null,
   "metadata": {},
   "outputs": [],
   "source": []
  },
  {
   "cell_type": "code",
   "execution_count": null,
   "metadata": {},
   "outputs": [],
   "source": []
  },
  {
   "cell_type": "code",
   "execution_count": null,
   "metadata": {},
   "outputs": [],
   "source": []
  },
  {
   "cell_type": "code",
   "execution_count": null,
   "metadata": {},
   "outputs": [],
   "source": []
  },
  {
   "cell_type": "code",
   "execution_count": null,
   "metadata": {},
   "outputs": [],
   "source": []
  },
  {
   "cell_type": "code",
   "execution_count": null,
   "metadata": {},
   "outputs": [],
   "source": [
    "import urllib2\n",
    "import re\n",
    "import re\n",
    "from bs4 import BeautifulSoup\n",
    "import json\n",
    "import datetime\n",
    "from dateutil.parser import parse\n",
    "from bs4.element import Comment\n",
    "import pandas as pd\n",
    "\n",
    "def tag_visible(element):\n",
    "    if element.parent.name in ['style', 'script', 'head', 'title', 'meta', '[document]']:\n",
    "        return False\n",
    "    if isinstance(element, Comment):\n",
    "        return False\n",
    "    return True\n",
    "\n",
    "\n",
    "def text_from_html(body):\n",
    "    soup = BeautifulSoup(body, 'html.parser')\n",
    "    texts = soup.findAll(text=True)\n",
    "    visible_texts = filter(tag_visible, texts)  \n",
    "    return u\" \".join(t.strip() for t in visible_texts)\n",
    "\n",
    "def parse_data_save(links):\n",
    "    result = []\n",
    "    for link in links:\n",
    "        page = urllib2.urlopen(link)\n",
    "        soup = BeautifulSoup(page)\n",
    "        content = soup.find('div', class_=\"mw-parser-output\")\n",
    "        d = {}\n",
    "        d[\"url\"] = link\n",
    "        d[\"text\"] = text_from_html(str(content)).encode('utf-8').strip()\n",
    "        result.append(d)\n",
    "    df = pd.DataFrame(result)\n",
    "    df.to_csv('data.csv')\n",
    "    return df\n",
    "\n",
    "def remove_spaces(text):\n",
    "    return re.sub('\\s+',' ',text)\n",
    "\n",
    "def get_all_wikibooks_links(wikibooks_url):\n",
    "    page = urllib2.urlopen(wikibooks_url)\n",
    "    soup = BeautifulSoup(page)\n",
    "    main_div = soup.find('div', class_=\"mw-content-ltr\")\n",
    "    ul = main_div.find_all('ul')\n",
    "    domain = \"https://en.wikibooks.org/%s\"\n",
    "    links = []\n",
    "    for u in ul:\n",
    "        li = u.find_all('li')\n",
    "        for l in li:\n",
    "            a_tag = l.find('a', recursive=False)\n",
    "            if a_tag: \n",
    "                link = domain%a_tag.get('href')\n",
    "                links.append(link)\n",
    "    return links\n",
    "    \n",
    "\n",
    "wikibooks_url = 'https://en.wikibooks.org/wiki/Java_Programming'\n",
    "df = parse_data_save(get_all_wikibooks_links(wikibooks_url))"
   ]
  }
 ],
 "metadata": {
  "kernelspec": {
   "display_name": "Python 3",
   "language": "python",
   "name": "python3"
  },
  "language_info": {
   "codemirror_mode": {
    "name": "ipython",
    "version": 2
   },
   "file_extension": ".py",
   "mimetype": "text/x-python",
   "name": "python",
   "nbconvert_exporter": "python",
   "pygments_lexer": "ipython2",
   "version": "2.7.15rc1"
  }
 },
 "nbformat": 4,
 "nbformat_minor": 2
}
